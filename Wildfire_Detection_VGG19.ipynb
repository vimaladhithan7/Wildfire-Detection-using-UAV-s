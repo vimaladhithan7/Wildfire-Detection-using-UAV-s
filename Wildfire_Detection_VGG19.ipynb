{
  "nbformat": 4,
  "nbformat_minor": 5,
  "metadata": {
    "kernelspec": {
      "display_name": "Python 3",
      "language": "python",
      "name": "python3"
    },
    "language_info": {
      "codemirror_mode": {
        "name": "ipython",
        "version": 3
      },
      "file_extension": ".py",
      "mimetype": "text/x-python",
      "name": "python",
      "nbconvert_exporter": "python",
      "pygments_lexer": "ipython3",
      "version": "3.6.13"
    },
    "colab": {
      "name": "Wildfire_Detection_VGG19.ipynb",
      "provenance": [],
      "collapsed_sections": [],
      "toc_visible": true
    },
    "accelerator": "GPU"
  },
  "cells": [
    {
      "cell_type": "code",
      "metadata": {
        "id": "e4a9d08d"
      },
      "source": [
        "#Importing libraries\n",
        "\n",
        "import numpy as np\n",
        "import pandas as pd\n",
        "import matplotlib.pyplot as plt\n",
        "import seaborn as sns\n",
        "\n",
        "import random\n",
        "import os\n",
        "import cv2\n",
        "from random import randint\n",
        "from IPython.display import SVG\n",
        "import matplotlib.gridspec as gridspec\n",
        "import matplotlib.image as mpimg\n",
        "import PIL\n",
        "from PIL import Image\n",
        "\n",
        "import keras"
      ],
      "id": "e4a9d08d",
      "execution_count": null,
      "outputs": []
    },
    {
      "cell_type": "code",
      "metadata": {
        "colab": {
          "base_uri": "https://localhost:8080/"
        },
        "id": "Kx0sOnVoMfvV",
        "outputId": "799708b2-7825-4cb2-b672-1bd7685cfaaf"
      },
      "source": [
        "#Mount Google Drive in Colab\n",
        "\n",
        "from google.colab import drive\n",
        "drive.mount('/content/drive')"
      ],
      "id": "Kx0sOnVoMfvV",
      "execution_count": null,
      "outputs": [
        {
          "output_type": "stream",
          "text": [
            "Mounted at /content/drive\n"
          ],
          "name": "stdout"
        }
      ]
    },
    {
      "cell_type": "code",
      "metadata": {
        "id": "a4709441"
      },
      "source": [
        "#Importing the datasets\n",
        "\n",
        "train_dir = \"/content/drive/MyDrive/FLAME Dataset/Training.zip (Unzipped Files)\"\n",
        "test_dir = \"/content/drive/MyDrive/FLAME Dataset/Test.zip (Unzipped Files)\""
      ],
      "id": "a4709441",
      "execution_count": null,
      "outputs": []
    },
    {
      "cell_type": "markdown",
      "metadata": {
        "id": "e1072908"
      },
      "source": [
        "# Classifying the two classes of datasets"
      ],
      "id": "e1072908"
    },
    {
      "cell_type": "code",
      "metadata": {
        "colab": {
          "base_uri": "https://localhost:8080/"
        },
        "id": "758c3d90",
        "outputId": "10e87d83-3dd3-4b07-d8d7-c28d40700494"
      },
      "source": [
        "#Count of training images\n",
        "\n",
        "cat_counts = {}\n",
        "for cat in os.listdir(train_dir):\n",
        "    counts = len(os.listdir(os.path.join(train_dir, cat)))\n",
        "    cat_counts[cat] =counts\n",
        "print(cat_counts)"
      ],
      "id": "758c3d90",
      "execution_count": null,
      "outputs": [
        {
          "output_type": "stream",
          "text": [
            "{'Training': 2}\n"
          ],
          "name": "stdout"
        }
      ]
    },
    {
      "cell_type": "code",
      "metadata": {
        "colab": {
          "base_uri": "https://localhost:8080/"
        },
        "id": "fc298a7e",
        "outputId": "61328733-7629-4a72-bae0-739081a984b6"
      },
      "source": [
        "#count of test images\n",
        "\n",
        "cat_counts = {}\n",
        "for cat in os.listdir(test_dir):\n",
        "    counts = len(os.listdir(os.path.join(test_dir, cat)))\n",
        "    cat_counts[cat] =counts\n",
        "print(cat_counts)"
      ],
      "id": "fc298a7e",
      "execution_count": null,
      "outputs": [
        {
          "output_type": "stream",
          "text": [
            "{'Test': 2}\n"
          ],
          "name": "stdout"
        }
      ]
    },
    {
      "cell_type": "markdown",
      "metadata": {
        "id": "39dfc64e"
      },
      "source": [
        "# Data pre-processing "
      ],
      "id": "39dfc64e"
    },
    {
      "cell_type": "code",
      "metadata": {
        "colab": {
          "base_uri": "https://localhost:8080/"
        },
        "id": "540f438a",
        "outputId": "cf6b3440-7ee0-43dd-8585-8b67039202e4"
      },
      "source": [
        "#Data Preprocessing\n",
        "#Image Data Generator\n",
        "\n",
        "from keras.preprocessing.image import ImageDataGenerator\n",
        "\n",
        "train_datagen = ImageDataGenerator(rescale = 1./255,\n",
        "                                   shear_range = 0.2,   \n",
        "                                   rotation_range = 40, \n",
        "                                   zoom_range = 0.2,    \n",
        "                                   brightness_range = [0.8, 1.2], \n",
        "                                   horizontal_flip = True,     \n",
        "                                   fill_mode = 'nearest',\n",
        "                                   width_shift_range = 0.2,\n",
        "                                   height_shift_range = 0.2\n",
        "                                   ) \n",
        "\n",
        "test_datagen = ImageDataGenerator(rescale = 1./255)\n",
        "\n",
        "training_set = train_datagen.flow_from_directory('/content/drive/MyDrive/FLAME Dataset/Training.zip (Unzipped Files)',\n",
        "                                                  target_size = (224, 224),\n",
        "                                                  batch_size = 32,\n",
        "                                                  class_mode = 'binary', shuffle = True)\n",
        "\n",
        "test_set = test_datagen.flow_from_directory('/content/drive/MyDrive/FLAME Dataset/Test.zip (Unzipped Files)',\n",
        "                                             target_size = (224, 224),\n",
        "                                             batch_size = 32,\n",
        "                                             class_mode = 'binary')"
      ],
      "id": "540f438a",
      "execution_count": null,
      "outputs": [
        {
          "output_type": "stream",
          "text": [
            "Found 39375 images belonging to 1 classes.\n",
            "Found 8617 images belonging to 1 classes.\n"
          ],
          "name": "stdout"
        }
      ]
    },
    {
      "cell_type": "code",
      "metadata": {
        "colab": {
          "base_uri": "https://localhost:8080/"
        },
        "id": "02f6f82b",
        "outputId": "3b908b78-f846-4c8e-c0ea-71431fdbb32e"
      },
      "source": [
        "#Finding the class Index\n",
        "training_set.class_indices"
      ],
      "id": "02f6f82b",
      "execution_count": null,
      "outputs": [
        {
          "output_type": "execute_result",
          "data": {
            "text/plain": [
              "{'Training': 0}"
            ]
          },
          "metadata": {
            "tags": []
          },
          "execution_count": 7
        }
      ]
    },
    {
      "cell_type": "markdown",
      "metadata": {
        "id": "feac767b"
      },
      "source": [
        "# Balancing the data"
      ],
      "id": "feac767b"
    },
    {
      "cell_type": "code",
      "metadata": {
        "id": "cb933fc5"
      },
      "source": [
        "#Using class_weights to balance the training data\n",
        "\n",
        "from sklearn.utils import class_weight\n",
        "import numpy as np\n",
        "\n",
        "class_weights = class_weight.compute_class_weight(\n",
        "               'balanced',\n",
        "                np.unique(training_set.classes), \n",
        "                training_set.classes) \n",
        "\n",
        "class_weights = dict(enumerate(class_weights))"
      ],
      "id": "cb933fc5",
      "execution_count": null,
      "outputs": []
    },
    {
      "cell_type": "code",
      "metadata": {
        "colab": {
          "base_uri": "https://localhost:8080/"
        },
        "id": "c545706d",
        "outputId": "f15fa767-22ed-4d3e-8f6c-3182e800dcce"
      },
      "source": [
        "#Printing the evaluated class_weights\n",
        "\n",
        "class_weights"
      ],
      "id": "c545706d",
      "execution_count": null,
      "outputs": [
        {
          "output_type": "execute_result",
          "data": {
            "text/plain": [
              "{0: 1.0}"
            ]
          },
          "metadata": {
            "tags": []
          },
          "execution_count": 9
        }
      ]
    },
    {
      "cell_type": "code",
      "metadata": {
        "id": "03c01a9d"
      },
      "source": [
        "#Importing required additional libraries\n",
        "\n",
        "from keras.layers import Dropout\n",
        "from keras import models, regularizers, layers, optimizers, losses, metrics\n",
        "\n",
        "from keras.layers import GlobalAveragePooling2D\n",
        "from keras.layers import GaussianNoise\n",
        "\n",
        "from keras.models import Sequential\n",
        "from keras.layers import Dense, Dropout, Conv2D, MaxPool2D, Flatten, BatchNormalization\n",
        "from keras.utils import np_utils"
      ],
      "id": "03c01a9d",
      "execution_count": null,
      "outputs": []
    },
    {
      "cell_type": "markdown",
      "metadata": {
        "id": "f833d02d"
      },
      "source": [
        "# Finding optimal model. In this instance it is VGG19"
      ],
      "id": "f833d02d"
    },
    {
      "cell_type": "code",
      "metadata": {
        "colab": {
          "base_uri": "https://localhost:8080/"
        },
        "id": "b44f0582",
        "outputId": "a5a8540d-01d7-4b8e-af29-7b7476337a06"
      },
      "source": [
        "#Importing libraries for VGG19\n",
        "\n",
        "from keras.applications.vgg19 import VGG19\n",
        "from keras.applications.vgg19 import preprocess_input\n",
        "\n",
        "vgg_base = VGG19(weights='imagenet',    \n",
        "                 include_top=False,     \n",
        "                 input_shape=(224, 224, 3))\n",
        "print(vgg_base.summary())"
      ],
      "id": "b44f0582",
      "execution_count": null,
      "outputs": [
        {
          "output_type": "stream",
          "text": [
            "Downloading data from https://storage.googleapis.com/tensorflow/keras-applications/vgg19/vgg19_weights_tf_dim_ordering_tf_kernels_notop.h5\n",
            "80142336/80134624 [==============================] - 1s 0us/step\n",
            "80150528/80134624 [==============================] - 1s 0us/step\n",
            "Model: \"vgg19\"\n",
            "_________________________________________________________________\n",
            "Layer (type)                 Output Shape              Param #   \n",
            "=================================================================\n",
            "input_1 (InputLayer)         [(None, 224, 224, 3)]     0         \n",
            "_________________________________________________________________\n",
            "block1_conv1 (Conv2D)        (None, 224, 224, 64)      1792      \n",
            "_________________________________________________________________\n",
            "block1_conv2 (Conv2D)        (None, 224, 224, 64)      36928     \n",
            "_________________________________________________________________\n",
            "block1_pool (MaxPooling2D)   (None, 112, 112, 64)      0         \n",
            "_________________________________________________________________\n",
            "block2_conv1 (Conv2D)        (None, 112, 112, 128)     73856     \n",
            "_________________________________________________________________\n",
            "block2_conv2 (Conv2D)        (None, 112, 112, 128)     147584    \n",
            "_________________________________________________________________\n",
            "block2_pool (MaxPooling2D)   (None, 56, 56, 128)       0         \n",
            "_________________________________________________________________\n",
            "block3_conv1 (Conv2D)        (None, 56, 56, 256)       295168    \n",
            "_________________________________________________________________\n",
            "block3_conv2 (Conv2D)        (None, 56, 56, 256)       590080    \n",
            "_________________________________________________________________\n",
            "block3_conv3 (Conv2D)        (None, 56, 56, 256)       590080    \n",
            "_________________________________________________________________\n",
            "block3_conv4 (Conv2D)        (None, 56, 56, 256)       590080    \n",
            "_________________________________________________________________\n",
            "block3_pool (MaxPooling2D)   (None, 28, 28, 256)       0         \n",
            "_________________________________________________________________\n",
            "block4_conv1 (Conv2D)        (None, 28, 28, 512)       1180160   \n",
            "_________________________________________________________________\n",
            "block4_conv2 (Conv2D)        (None, 28, 28, 512)       2359808   \n",
            "_________________________________________________________________\n",
            "block4_conv3 (Conv2D)        (None, 28, 28, 512)       2359808   \n",
            "_________________________________________________________________\n",
            "block4_conv4 (Conv2D)        (None, 28, 28, 512)       2359808   \n",
            "_________________________________________________________________\n",
            "block4_pool (MaxPooling2D)   (None, 14, 14, 512)       0         \n",
            "_________________________________________________________________\n",
            "block5_conv1 (Conv2D)        (None, 14, 14, 512)       2359808   \n",
            "_________________________________________________________________\n",
            "block5_conv2 (Conv2D)        (None, 14, 14, 512)       2359808   \n",
            "_________________________________________________________________\n",
            "block5_conv3 (Conv2D)        (None, 14, 14, 512)       2359808   \n",
            "_________________________________________________________________\n",
            "block5_conv4 (Conv2D)        (None, 14, 14, 512)       2359808   \n",
            "_________________________________________________________________\n",
            "block5_pool (MaxPooling2D)   (None, 7, 7, 512)         0         \n",
            "=================================================================\n",
            "Total params: 20,024,384\n",
            "Trainable params: 20,024,384\n",
            "Non-trainable params: 0\n",
            "_________________________________________________________________\n",
            "None\n"
          ],
          "name": "stdout"
        }
      ]
    },
    {
      "cell_type": "markdown",
      "metadata": {
        "id": "b27ccc07"
      },
      "source": [
        "# Fine tuning "
      ],
      "id": "b27ccc07"
    },
    {
      "cell_type": "code",
      "metadata": {
        "colab": {
          "base_uri": "https://localhost:8080/"
        },
        "id": "a66b0335",
        "outputId": "c6979495-53ab-4350-ce5a-8e254fe24435"
      },
      "source": [
        "#Fine tuning the model\n",
        "\n",
        "trainable = False\n",
        "\n",
        "for layer in vgg_base.layers:\n",
        "    if layer.name == 'block5_conv2':\n",
        "        trainable = True\n",
        "        \n",
        "    layer.trainable = trainable\n",
        "    \n",
        "print(vgg_base.summary())"
      ],
      "id": "a66b0335",
      "execution_count": null,
      "outputs": [
        {
          "output_type": "stream",
          "text": [
            "Model: \"vgg19\"\n",
            "_________________________________________________________________\n",
            "Layer (type)                 Output Shape              Param #   \n",
            "=================================================================\n",
            "input_1 (InputLayer)         [(None, 224, 224, 3)]     0         \n",
            "_________________________________________________________________\n",
            "block1_conv1 (Conv2D)        (None, 224, 224, 64)      1792      \n",
            "_________________________________________________________________\n",
            "block1_conv2 (Conv2D)        (None, 224, 224, 64)      36928     \n",
            "_________________________________________________________________\n",
            "block1_pool (MaxPooling2D)   (None, 112, 112, 64)      0         \n",
            "_________________________________________________________________\n",
            "block2_conv1 (Conv2D)        (None, 112, 112, 128)     73856     \n",
            "_________________________________________________________________\n",
            "block2_conv2 (Conv2D)        (None, 112, 112, 128)     147584    \n",
            "_________________________________________________________________\n",
            "block2_pool (MaxPooling2D)   (None, 56, 56, 128)       0         \n",
            "_________________________________________________________________\n",
            "block3_conv1 (Conv2D)        (None, 56, 56, 256)       295168    \n",
            "_________________________________________________________________\n",
            "block3_conv2 (Conv2D)        (None, 56, 56, 256)       590080    \n",
            "_________________________________________________________________\n",
            "block3_conv3 (Conv2D)        (None, 56, 56, 256)       590080    \n",
            "_________________________________________________________________\n",
            "block3_conv4 (Conv2D)        (None, 56, 56, 256)       590080    \n",
            "_________________________________________________________________\n",
            "block3_pool (MaxPooling2D)   (None, 28, 28, 256)       0         \n",
            "_________________________________________________________________\n",
            "block4_conv1 (Conv2D)        (None, 28, 28, 512)       1180160   \n",
            "_________________________________________________________________\n",
            "block4_conv2 (Conv2D)        (None, 28, 28, 512)       2359808   \n",
            "_________________________________________________________________\n",
            "block4_conv3 (Conv2D)        (None, 28, 28, 512)       2359808   \n",
            "_________________________________________________________________\n",
            "block4_conv4 (Conv2D)        (None, 28, 28, 512)       2359808   \n",
            "_________________________________________________________________\n",
            "block4_pool (MaxPooling2D)   (None, 14, 14, 512)       0         \n",
            "_________________________________________________________________\n",
            "block5_conv1 (Conv2D)        (None, 14, 14, 512)       2359808   \n",
            "_________________________________________________________________\n",
            "block5_conv2 (Conv2D)        (None, 14, 14, 512)       2359808   \n",
            "_________________________________________________________________\n",
            "block5_conv3 (Conv2D)        (None, 14, 14, 512)       2359808   \n",
            "_________________________________________________________________\n",
            "block5_conv4 (Conv2D)        (None, 14, 14, 512)       2359808   \n",
            "_________________________________________________________________\n",
            "block5_pool (MaxPooling2D)   (None, 7, 7, 512)         0         \n",
            "=================================================================\n",
            "Total params: 20,024,384\n",
            "Trainable params: 7,079,424\n",
            "Non-trainable params: 12,944,960\n",
            "_________________________________________________________________\n",
            "None\n"
          ],
          "name": "stdout"
        }
      ]
    },
    {
      "cell_type": "code",
      "metadata": {
        "id": "6f103159"
      },
      "source": [
        "#Model building\n",
        "\n",
        "def build_model():\n",
        "    from tensorflow.keras.optimizers import Adam, RMSprop\n",
        "           \n",
        "    model = keras.models.Sequential([vgg_base,\n",
        "                                     keras.layers.Flatten(),\n",
        "                                     keras.layers.Dropout(0.50),\n",
        "                                     keras.layers.Dense(1, activation='sigmoid')])\n",
        "    \n",
        "    \n",
        "    # Compiling the model\n",
        "\n",
        "    model.compile(optimizer=RMSprop(lr = 1e-4), \n",
        "                  loss='binary_crossentropy',\n",
        "                  metrics=['accuracy'])\n",
        "    return model"
      ],
      "id": "6f103159",
      "execution_count": null,
      "outputs": []
    },
    {
      "cell_type": "code",
      "metadata": {
        "colab": {
          "base_uri": "https://localhost:8080/"
        },
        "id": "e9dd4cba",
        "outputId": "9a7ff9c7-41b7-4475-f423-aa37a46e804d"
      },
      "source": [
        "model = build_model()\n",
        "print(model.summary())"
      ],
      "id": "e9dd4cba",
      "execution_count": null,
      "outputs": [
        {
          "output_type": "stream",
          "text": [
            "Model: \"sequential\"\n",
            "_________________________________________________________________\n",
            "Layer (type)                 Output Shape              Param #   \n",
            "=================================================================\n",
            "vgg19 (Functional)           (None, 7, 7, 512)         20024384  \n",
            "_________________________________________________________________\n",
            "flatten (Flatten)            (None, 25088)             0         \n",
            "_________________________________________________________________\n",
            "dropout (Dropout)            (None, 25088)             0         \n",
            "_________________________________________________________________\n",
            "dense (Dense)                (None, 1)                 25089     \n",
            "=================================================================\n",
            "Total params: 20,049,473\n",
            "Trainable params: 7,104,513\n",
            "Non-trainable params: 12,944,960\n",
            "_________________________________________________________________\n",
            "None\n"
          ],
          "name": "stdout"
        },
        {
          "output_type": "stream",
          "text": [
            "/usr/local/lib/python3.7/dist-packages/tensorflow/python/keras/optimizer_v2/optimizer_v2.py:375: UserWarning: The `lr` argument is deprecated, use `learning_rate` instead.\n",
            "  \"The `lr` argument is deprecated, use `learning_rate` instead.\")\n"
          ],
          "name": "stderr"
        }
      ]
    },
    {
      "cell_type": "code",
      "metadata": {
        "colab": {
          "base_uri": "https://localhost:8080/"
        },
        "id": "2c0a475f",
        "outputId": "a4714165-91ce-477f-a9cf-10819727ae74"
      },
      "source": [
        "#Calculating steps per epoch\n",
        "\n",
        "BATCH_SIZE = 32\n",
        "train_steps = training_set.n // BATCH_SIZE\n",
        "test_steps = test_set.n // BATCH_SIZE\n",
        "\n",
        "train_steps, test_steps"
      ],
      "id": "2c0a475f",
      "execution_count": null,
      "outputs": [
        {
          "output_type": "execute_result",
          "data": {
            "text/plain": [
              "(1230, 269)"
            ]
          },
          "metadata": {
            "tags": []
          },
          "execution_count": 15
        }
      ]
    },
    {
      "cell_type": "code",
      "metadata": {
        "id": "f327cb35"
      },
      "source": [
        "#Adding 'Early Stopping' \n",
        "\n",
        "callback = keras.callbacks.EarlyStopping(\n",
        "    monitor = \"accuracy\",\n",
        "    min_delta = 0,\n",
        "    patience = 3,\n",
        "    verbose = 1,\n",
        "    mode = \"auto\",\n",
        "    baseline = None,\n",
        "    restore_best_weights = False\n",
        ")"
      ],
      "id": "f327cb35",
      "execution_count": null,
      "outputs": []
    },
    {
      "cell_type": "code",
      "metadata": {
        "colab": {
          "base_uri": "https://localhost:8080/"
        },
        "id": "fed357a1",
        "outputId": "18a4fca3-2259-4cfd-8e62-497d205b6752"
      },
      "source": [
        "#Training the model\n",
        "\n",
        "history = model.fit_generator(\n",
        "    training_set,\n",
        "    steps_per_epoch=train_steps, class_weight = class_weights,\n",
        "    epochs=100, callbacks = [callback]\n",
        "    )"
      ],
      "id": "fed357a1",
      "execution_count": null,
      "outputs": [
        {
          "output_type": "stream",
          "text": [
            "/usr/local/lib/python3.7/dist-packages/tensorflow/python/keras/engine/training.py:1844: UserWarning: `Model.fit_generator` is deprecated and will be removed in a future version. Please use `Model.fit`, which supports generators.\n",
            "  warnings.warn('`Model.fit_generator` is deprecated and '\n"
          ],
          "name": "stderr"
        },
        {
          "output_type": "stream",
          "text": [
            "Epoch 1/100\n",
            "24/24 [==============================] - 616s 25s/step - loss: 0.6561 - accuracy: 0.7001\n",
            "Epoch 2/100\n",
            "24/24 [==============================] - 606s 25s/step - loss: 0.3374 - accuracy: 0.8487\n",
            "Epoch 3/100\n",
            "24/24 [==============================] - 616s 26s/step - loss: 0.2752 - accuracy: 0.8684\n",
            "Epoch 4/100\n",
            "24/24 [==============================] - 622s 26s/step - loss: 0.2610 - accuracy: 0.8837\n",
            "Epoch 5/100\n",
            "24/24 [==============================] - 624s 26s/step - loss: 0.2634 - accuracy: 0.8941\n",
            "Epoch 6/100\n",
            "24/24 [==============================] - 626s 26s/step - loss: 0.2653 - accuracy: 0.9171\n",
            "Epoch 7/100\n",
            "24/24 [==============================] - 639s 27s/step - loss: 0.2917 - accuracy: 0.8683\n",
            "Epoch 8/100\n",
            "24/24 [==============================] - 640s 27s/step - loss: 0.1674 - accuracy: 0.9456\n",
            "Epoch 9/100\n",
            "24/24 [==============================] - 633s 26s/step - loss: 0.1822 - accuracy: 0.9429\n",
            "Epoch 10/100\n",
            "24/24 [==============================] - 635s 26s/step - loss: 0.1658 - accuracy: 0.9446\n",
            "Epoch 11/100\n",
            "24/24 [==============================] - 642s 27s/step - loss: 0.1277 - accuracy: 0.9473\n",
            "Epoch 12/100\n",
            "24/24 [==============================] - 677s 28s/step - loss: 0.1428 - accuracy: 0.9360\n",
            "Epoch 00012: early stopping\n"
          ],
          "name": "stdout"
        }
      ]
    },
    {
      "cell_type": "code",
      "metadata": {
        "id": "igy5uzQGtAuc"
      },
      "source": [
        "#Saving the model\n",
        "\n",
        "model.save('vgg19_model_19.h5')"
      ],
      "id": "igy5uzQGtAuc",
      "execution_count": null,
      "outputs": []
    },
    {
      "cell_type": "code",
      "metadata": {
        "colab": {
          "base_uri": "https://localhost:8080/"
        },
        "id": "auB0DAV-KNSe",
        "outputId": "7cb6ec93-9c3b-4c8d-a954-210f3943ea52"
      },
      "source": [
        "#Loading saved model\n",
        "\n",
        "from keras.models import load_model\n",
        "vggfinal = load_model('/content/drive/MyDrive/Wildfire/vgg_model_19.h5')"
      ],
      "id": "auB0DAV-KNSe",
      "execution_count": null,
      "outputs": [
        {
          "output_type": "stream",
          "text": [
            "WARNING:tensorflow:No training configuration found in the save file, so the model was *not* compiled. Compile it manually.\n"
          ],
          "name": "stdout"
        }
      ]
    },
    {
      "cell_type": "markdown",
      "metadata": {
        "id": "fd807457"
      },
      "source": [
        "# Testing the model using a sample test data"
      ],
      "id": "fd807457"
    },
    {
      "cell_type": "code",
      "metadata": {
        "id": "5c287d62"
      },
      "source": [
        "#Testing the model with a sample image of 'FIRE'\n",
        "\n",
        "import numpy as np\n",
        "from keras.preprocessing import image\n",
        "\n",
        "test_image = image.load_img('/content/drive/MyDrive/FLAME Dataset/Test.zip (Unzipped Files)/Test/Fire/resized_test_fire_frame1008.jpg', target_size = (224, 224))\n",
        "test_image = image.img_to_array(test_image)\n",
        "test_image = np.expand_dims(test_image, axis = 0)\n",
        "test_image = test_image / 255.0\n",
        "result = model.predict(test_image)\n",
        "training_set.class_indices\n",
        "if result < 0.5:\n",
        "    print('Fire')\n",
        "else:\n",
        "    print('No Fire')"
      ],
      "id": "5c287d62",
      "execution_count": null,
      "outputs": []
    },
    {
      "cell_type": "code",
      "metadata": {
        "colab": {
          "base_uri": "https://localhost:8080/"
        },
        "id": "wlNYWP0l3XXt",
        "outputId": "07e82278-c081-49d3-bde4-d96c4c227b55"
      },
      "source": [
        "#Testing the model with a sample image of 'NO FIRE'\n",
        "\n",
        "import numpy as np\n",
        "from keras.preprocessing import image\n",
        "\n",
        "test_image = image.load_img('/content/drive/MyDrive/FLAME Dataset/Test.zip (Unzipped Files)/Test/No_Fire/resized_test_nofire_frame1012.jpg', target_size = (224, 224))\n",
        "test_image = image.img_to_array(test_image)\n",
        "test_image = np.expand_dims(test_image, axis = 0)\n",
        "test_image = test_image / 255.0\n",
        "result = model.predict(test_image)\n",
        "training_set.class_indices\n",
        "if result < 0.5:\n",
        "    print('Fire')\n",
        "else:\n",
        "    print('No Fire')"
      ],
      "id": "wlNYWP0l3XXt",
      "execution_count": null,
      "outputs": [
        {
          "output_type": "stream",
          "text": [
            "Fire\n"
          ],
          "name": "stdout"
        }
      ]
    },
    {
      "cell_type": "code",
      "metadata": {
        "id": "Ut2_Oi3UMbCf"
      },
      "source": [
        "from sklearn.model_selection import StratifiedKFold"
      ],
      "id": "Ut2_Oi3UMbCf",
      "execution_count": null,
      "outputs": []
    },
    {
      "cell_type": "code",
      "metadata": {
        "id": "b01rxsOoLo0K"
      },
      "source": [
        "kfold = StratifiedKFold(n_splits=5, shuffle=True)\n",
        "cvscores = []\n",
        "f1scores = []\n",
        "iteration = 1\n",
        "\n",
        "for train_index, test_index in kfold.split(training_set,test_set):\n",
        "\n",
        "    # create model\n",
        "    model = Sequential()\n",
        "    model.add(Dense(10, input_dim=15, activation='sigmoid'))\n",
        "    model.add(Dense(1, activation='sigmoid'))\n",
        "    model.compile(optimizer='Adam',\n",
        "              loss='binary_crossentropy',\n",
        "              metrics=['accuracy'])\n",
        "\n",
        "  #separate train data and test data\n",
        "    x_train,x_test=training_set[train_index],training_set[test_index]\n",
        "    y_train,y_test=test_set[train_index],test_set[test_index]\n",
        "\n",
        "    model.fit(x_train, y_train, epochs=30, batch_size=256,verbose=0)\n",
        "    scores = model.evaluate(x_test, y_test, verbose=0)\n",
        "    cvscores.append(scores[1] * 100)\n",
        "    #calculate F1 score\n",
        "    y_pred = model.predict(x_test, batch_size=256, verbose=1)\n",
        "    y_pred = np.where(y_pred > 0.5, 1, 0)\n",
        "    f1 = f1_score(y_test, y_pred, average='macro')\n",
        "    f1scores.append(f1)\n",
        "    iteration = iteration + 1\n",
        "    \n",
        "print(\"Accuracy: %.2f%% (+/- %.2f%%)\" % (numpy.mean(cvscores), numpy.std(cvscores)))\n",
        "print(\"F1: %.2f%% (+/- %.2f%%)\" % (numpy.mean(f1scores), numpy.std(f1scores)))"
      ],
      "id": "b01rxsOoLo0K",
      "execution_count": null,
      "outputs": []
    },
    {
      "cell_type": "code",
      "metadata": {
        "id": "5VRdvZQFLou_"
      },
      "source": [
        ""
      ],
      "id": "5VRdvZQFLou_",
      "execution_count": null,
      "outputs": []
    },
    {
      "cell_type": "code",
      "metadata": {
        "id": "0b8972e4"
      },
      "source": [
        ""
      ],
      "id": "0b8972e4",
      "execution_count": null,
      "outputs": []
    }
  ]
}